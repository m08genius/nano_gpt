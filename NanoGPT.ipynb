{
 "cells": [
  {
   "cell_type": "code",
   "execution_count": 1,
   "id": "0365e6f5",
   "metadata": {},
   "outputs": [],
   "source": [
    "import torch\n",
    "import torch.nn as nn\n",
    "import torch.nn.functional as F\n",
    "from torch.utils.data import TensorDataset, DataLoader\n",
    "import time\n",
    "import pickle\n",
    "import math"
   ]
  },
  {
   "cell_type": "code",
   "execution_count": 2,
   "id": "1ced09fd",
   "metadata": {},
   "outputs": [
    {
     "name": "stdout",
     "output_type": "stream",
     "text": [
      "cuda\n",
      "1\n"
     ]
    }
   ],
   "source": [
    "device = 'cuda' if torch.cuda.is_available() else 'cpu'\n",
    "print(device)\n",
    "\n",
    "n_gpus = torch.cuda.device_count()\n",
    "print(n_gpus)"
   ]
  },
  {
   "cell_type": "code",
   "execution_count": 3,
   "id": "ed387e3d",
   "metadata": {},
   "outputs": [
    {
     "name": "stdout",
     "output_type": "stream",
     "text": [
      "Size:1115393\n"
     ]
    }
   ],
   "source": [
    "with open('input.txt', 'r', encoding='utf-8') as f:\n",
    "    data = f.read()\n",
    "print(\"Size:{}\".format(len(data)))"
   ]
  },
  {
   "cell_type": "code",
   "execution_count": 4,
   "id": "570531c3",
   "metadata": {},
   "outputs": [
    {
     "name": "stdout",
     "output_type": "stream",
     "text": [
      "Size: 65\n",
      "Set:  \n",
      " !$&',-.3:;?ABCDEFGHIJKLMNOPQRSTUVWXYZabcdefghijklmnopqrstuvwxyz\n"
     ]
    }
   ],
   "source": [
    "# Create Token Set\n",
    "charset = list(set(data))\n",
    "charset.sort()\n",
    "vocab_size = len(charset)\n",
    "print(\"Size: {}\".format(len(charset)))\n",
    "print(\"Set:  {}\".format(''.join(charset)))"
   ]
  },
  {
   "cell_type": "code",
   "execution_count": 5,
   "id": "b36970f8",
   "metadata": {},
   "outputs": [
    {
     "name": "stdout",
     "output_type": "stream",
     "text": [
      "['h', 'e', 'l', 'l', 'o', 'w', 'o', 'r', 'l', 'd']\n"
     ]
    }
   ],
   "source": [
    "# Create token encoder / decoder\n",
    "stoi = {ch:index for index, ch in enumerate(charset)}\n",
    "itos = {index:ch for index, ch in enumerate(charset)}\n",
    "encode = lambda s: [stoi[c] for c in s]\n",
    "decode = lambda l: [itos[i] for i in l]\n",
    "enc = encode(\"helloworld\")\n",
    "dec = decode(enc)\n",
    "print(dec)"
   ]
  },
  {
   "cell_type": "code",
   "execution_count": 6,
   "id": "2d1914c8",
   "metadata": {},
   "outputs": [
    {
     "name": "stdout",
     "output_type": "stream",
     "text": [
      "TrainNum: 1003853\n"
     ]
    }
   ],
   "source": [
    "torch.manual_seed(1337)\n",
    "train_percent = 0.9\n",
    "\n",
    "t = torch.tensor(encode(data), dtype=torch.long)\n",
    "train_num = int(train_percent * t.shape[0])\n",
    "train_data = t[:train_num]\n",
    "val_data = t[train_num:]\n",
    "print(\"TrainNum: {}\".format(train_num))"
   ]
  },
  {
   "cell_type": "code",
   "execution_count": 7,
   "id": "02bfe48a",
   "metadata": {},
   "outputs": [],
   "source": [
    "def create_dataset(t, block_size):\n",
    "    length = t.shape[0] - block_size\n",
    "    tensor_x = torch.arange(start=0, end=length)\n",
    "    tensor_y = torch.arange(start=1, end=length+1)\n",
    "\n",
    "    b = torch.arange(block_size).view(1, -1)\n",
    "    x_view = tensor_x.view(-1, 1) + b\n",
    "    x_data = t[x_view]\n",
    "\n",
    "    y_view = tensor_y.view(-1, 1) + b\n",
    "    y_data = t[y_view]\n",
    "    \n",
    "    return TensorDataset(x_data, y_data)\n",
    "\n",
    "def create_data_loader(t, batch_size, block_size):\n",
    "    dataset = create_dataset(t, block_size=block_size)\n",
    "    return DataLoader(dataset, batch_size=batch_size, shuffle=True)\n",
    "\n",
    "#train_dl = create_data_loader(train_data, batch_size, block_size)\n",
    "#val_dl = create_data_loader(val_data, batch_size, block_size)\n",
    "# for xb, yb in train_dl:\n",
    "#     print(xb)\n",
    "#     print(yb)\n",
    "#     break"
   ]
  },
  {
   "cell_type": "code",
   "execution_count": 8,
   "id": "77bcaaf2",
   "metadata": {},
   "outputs": [],
   "source": [
    "class BigramModel(nn.Module):\n",
    "    def __init__(self):\n",
    "        super().__init__()\n",
    "        self.embedding_table = nn.Embedding(vocab_size, 32)\n",
    "        self.linear = nn.Linear(32, vocab_size)\n",
    "        \n",
    "    def forward(self, x):\n",
    "        # Create the logits\n",
    "        embeddings = self.embedding_table(x)\n",
    "        logits = self.linear(embeddings)\n",
    "        \n",
    "        return logits\n",
    "\n",
    "    def generate(self, x, num_tokens=100):\n",
    "        for _ in range(num_tokens):\n",
    "            logits = self.forward(x) # logits is B, T, C\n",
    "            logits_last_time_step = logits[:, -1, :]\n",
    "            # print(logits.shape)\n",
    "            # print(logits_last_time_step.shape)\n",
    "        \n",
    "            batch_probs = F.softmax(logits_last_time_step, dim=1)\n",
    "            batch_next_ch = torch.multinomial(batch_probs, 1)\n",
    "            x = torch.cat((x, batch_next_ch), dim=1) # B, T+1\n",
    "        return x"
   ]
  },
  {
   "cell_type": "code",
   "execution_count": 9,
   "id": "569751e2",
   "metadata": {},
   "outputs": [],
   "source": [
    "class SingleHeadAttentionModule(nn.Module):\n",
    "    def __init__(self, embedding_size, head_size):\n",
    "        super().__init__()\n",
    "        self.head_size = head_size\n",
    "        self.q = nn.Linear(embedding_size, head_size, bias=False)\n",
    "        self.k = nn.Linear(embedding_size, head_size, bias=False)\n",
    "        self.v = nn.Linear(embedding_size, head_size, bias=False)\n",
    "    \n",
    "    def forward(self, query, key, value):\n",
    "        query = self.q(query)\n",
    "        key = self.k(key)\n",
    "        value = self.v(value)\n",
    "        \n",
    "        att_mat = query @ torch.transpose(key, -2, -1)\n",
    "        att_mat_scaled = torch.div(att_mat, torch.sqrt(torch.tensor(self.head_size)))\n",
    "        \n",
    "        att_mat_scaled[torch.tril(torch.ones_like(att_mat_scaled)) == 0.] = -float('inf')\n",
    "        \n",
    "        return att_mat_scaled.softmax(-1) @ value"
   ]
  },
  {
   "cell_type": "code",
   "execution_count": 10,
   "id": "f3c37fe6",
   "metadata": {},
   "outputs": [],
   "source": [
    "class MultiHeadAttentionModule(nn.Module):\n",
    "    def __init__(self, num_heads, embedding_size):\n",
    "        super().__init__()\n",
    "        assert num_heads != 0\n",
    "        assert embedding_size % num_heads == 0\n",
    "        \n",
    "        self.heads = num_heads\n",
    "        self.head_size = int(embedding_size / num_heads)\n",
    "        \n",
    "        self.q = nn.Linear(embedding_size, embedding_size, bias=False)\n",
    "        self.k = nn.Linear(embedding_size, embedding_size, bias=False)\n",
    "        self.v = nn.Linear(embedding_size, embedding_size, bias=False)\n",
    "        \n",
    "            \n",
    "    def forward(self, query, key, value):\n",
    "        query = self.q(query)\n",
    "        key = self.k(key)\n",
    "        value = self.v(value)\n",
    "        \n",
    "        # (batch_size, max_len, d_model) --> (batch_size, max_len, h, d_k) --> (batch_size, h, max_len, d_k)\n",
    "        query = query.view(query.shape[0], -1, self.heads, self.head_size).permute(0, 2, 1, 3)   \n",
    "        key = key.view(key.shape[0], -1, self.heads, self.head_size).permute(0, 2, 1, 3)  \n",
    "        value = value.view(value.shape[0], -1, self.heads, self.head_size).permute(0, 2, 1, 3)\n",
    "        \n",
    "        attn_scores = torch.matmul(query, key.permute(0, 1, 3, 2)) / math.sqrt(query.size(-1))\n",
    "        \n",
    "        attn_scores[torch.tril(torch.ones_like(attn_scores)) == 0.] = -float('inf')\n",
    "        \n",
    "        context = attn_scores.softmax(-1) @ value\n",
    "        \n",
    "        return context.permute(0, 2, 1, 3).contiguous().view(context.shape[0], -1, self.heads * self.head_size)"
   ]
  },
  {
   "cell_type": "code",
   "execution_count": 11,
   "id": "fad9b31f",
   "metadata": {},
   "outputs": [],
   "source": [
    "# class MultiHeadAttentionModule(nn.Module):\n",
    "#     def __init__(self, num_heads, embedding_size):\n",
    "#         super().__init__()\n",
    "#         assert num_heads != 0\n",
    "#         assert embedding_size % num_heads == 0\n",
    "        \n",
    "#         self.head_size = int(embedding_size / num_heads)\n",
    "#         self.heads = nn.ModuleList([SingleHeadAttentionModule(embedding_size=embedding_size, head_size=self.head_size) for _ in range(1, num_heads+1)])\n",
    "    \n",
    "#     def forward(self, query, key, value):\n",
    "#         return torch.cat([sahm(query, key, value) for sahm in self.heads], dim=-1)"
   ]
  },
  {
   "cell_type": "code",
   "execution_count": 12,
   "id": "ad8e8fe0",
   "metadata": {},
   "outputs": [],
   "source": [
    "class FeedForwardModule(nn.Module):\n",
    "    def __init__(self, embedding_size):\n",
    "        super().__init__()\n",
    "        \n",
    "        self.layers = nn.Sequential(nn.Linear(embedding_size, 4 * embedding_size), \n",
    "                                    nn.ReLU(), \n",
    "                                    nn.Linear(4 * embedding_size, embedding_size), \n",
    "                                    nn.ReLU())\n",
    "        \n",
    "    def forward(self, x):\n",
    "        return self.layers(x)"
   ]
  },
  {
   "cell_type": "code",
   "execution_count": 13,
   "id": "3f6d6a43",
   "metadata": {},
   "outputs": [],
   "source": [
    "class SelfAttentionModule(nn.Module):\n",
    "    def __init__(self, num_heads, embedding_size):\n",
    "        super().__init__()\n",
    "        \n",
    "        self.layer_norm1 = nn.LayerNorm(embedding_size)\n",
    "        self.multi_head_attention = MultiHeadAttentionModule(num_heads=num_heads, embedding_size=embedding_size)\n",
    "        \n",
    "        self.layer_norm2 = nn.LayerNorm(embedding_size)\n",
    "        self.feed_forward = FeedForwardModule(embedding_size=embedding_size)\n",
    "    \n",
    "    def forward(self, x):\n",
    "        x_layer_norm = self.layer_norm1(x)\n",
    "        x = x + self.multi_head_attention(x_layer_norm, x_layer_norm, x_layer_norm)\n",
    "        \n",
    "        return x + self.feed_forward(self.layer_norm2(x))"
   ]
  },
  {
   "cell_type": "code",
   "execution_count": 14,
   "id": "b44c33a4",
   "metadata": {},
   "outputs": [],
   "source": [
    "class NanoGPT(nn.Module):\n",
    "    def __init__(self, vocab_size, block_size):\n",
    "        super().__init__()\n",
    "        \n",
    "        # Embedding layer\n",
    "        self.embedding = nn.Embedding(vocab_size, 32)\n",
    "\n",
    "        # Positional embedding\n",
    "        self.position_embedding = nn.Embedding(block_size, 32)\n",
    "        \n",
    "        # Higher dimension linear layer\n",
    "        self.layers = nn.Sequential(nn.Linear(32, 256), \n",
    "                                    nn.ReLU(),\n",
    "                                    nn.Dropout(p=0.5),\n",
    "                                    SelfAttentionModule(num_heads=4, embedding_size=256),\n",
    "                                    nn.Linear(256, 128), \n",
    "                                    nn.ReLU(),\n",
    "                                    nn.Dropout(p=0.3),\n",
    "                                    SelfAttentionModule(num_heads=4, embedding_size=128),\n",
    "                                    nn.Linear(128, 64), \n",
    "                                    nn.ReLU(),\n",
    "                                    nn.Dropout(p=0.1),\n",
    "                                    SelfAttentionModule(num_heads=4, embedding_size=64),\n",
    "                                    nn.Linear(64, vocab_size))\n",
    "    \n",
    "    def forward(self, x):\n",
    "        B, T = x.shape\n",
    "        return self.layers(self.embedding(x) + self.position_embedding(torch.arange(T, device=device)))"
   ]
  },
  {
   "cell_type": "code",
   "execution_count": 15,
   "id": "2d389df4",
   "metadata": {},
   "outputs": [],
   "source": [
    "block_size = 256\n",
    "model = NanoGPT(vocab_size=vocab_size, block_size=block_size)\n",
    "model = model.to(device)\n",
    "optimizer = torch.optim.AdamW(model.parameters(), lr = 0.001)\n",
    "optimizer.zero_grad()\n",
    "\n",
    "global_train_loss = []\n",
    "global_val_loss = []"
   ]
  },
  {
   "cell_type": "code",
   "execution_count": 16,
   "id": "a566aeea",
   "metadata": {},
   "outputs": [
    {
     "name": "stdout",
     "output_type": "stream",
     "text": [
      "./nx3_4headed_256T_relu_dropout_attn_decoder_MODEL_{}.pt\n",
      "./nx3_4headed_256T_relu_dropout_attn_decoder_TRAIN_LOSS_{}.pkl\n",
      "./nx3_4headed_256T_relu_dropout_attn_decoder_VAL_LOSS_{}.pkl\n",
      "[2.465763060351633, 2.214039154364143, 2.0642831181146697, 1.9481332245926235, 1.8827307071398833, 1.8401661422313311, 1.810272954744969, 1.7876763343158921, 1.7699029636084296, 1.7552019784242987, 1.7431763873346593, 1.7328876119895607, 1.7233284082832276, 1.714792643047706, 1.7065538912784528, 1.6988748602973236, 1.6915115434721009, 1.7054914516674644, 1.6787429622954715, 1.6724199675636537, 1.6654603553590595, 1.6590863514145042, 1.652612038821886, 1.6463191649851492, 1.6392955064283228, 1.632084341257215, 1.6248806835424505, 1.6174330663882817, 1.6099488803541404, 1.602947030398114, 1.5960467962024183, 1.5896167803112518, 1.5841973282108919, 1.5794017644762648, 1.5748585517690992, 1.5700084760096151, 1.5654651399215351, 1.561160571891384, 1.557452380829133, 1.5536672696069804, 1.550265282969337, 1.5467848108450883, 1.5437372308145692, 1.5403807398640754, 1.5374786061737449, 1.5345400590001521, 1.5318090467236192, 1.5287754581889574, 1.5262754707958217, 1.5233616289906984, 1.5209490673206039, 1.5185364626016447, 1.5158609023944034, 1.51374712298306, 1.5114480808356345, 1.509076812001405, 1.5069915409985282, 1.505402518179634, 1.5030476020968946, 1.5009958239672063, 1.4991664154306925, 1.497275397282253]\n",
      "[2.3576533490348903, 2.2258300290461315, 2.1240522463845037, 2.0579846220070297, 2.0142560920435617, 1.9886488932700432, 1.9697257462242344, 1.953177852096892, 1.9491028345435464, 1.9394302233190746, 1.9293829526030903, 1.9291715818238007, 1.916142968107215, 1.9241753921026827, 1.9140099791961829, 1.9005341488925709, 1.9027512852634243, 1.8935413082593522, 1.8916026353021935, 1.8829407978227541, 1.8875213354565668, 1.8887180076838868, 1.8772702079172177, 1.8638267575706826, 1.8604587649575786, 1.8658020782511837, 1.8532431145008468, 1.8461943252729112, 1.8396802287566054, 1.8340649848863397, 1.8413976325742305, 1.8276391288206737, 1.825751543752047, 1.8201964023809885, 1.8242636770765202, 1.812924571745324, 1.813583828399322, 1.8192144122054645, 1.8107698186699088, 1.8067356706552555, 1.8065966408085006, 1.8030984856070196, 1.8037641956866086, 1.7976308695894034, 1.7936419829823165, 1.7941788443980522, 1.7948103428898192, 1.7883568873562625, 1.7909270491856615, 1.7893926968388902, 1.7849178999059305, 1.781138200985443, 1.7833985958498373, 1.774647335039327, 1.7735398223109515, 1.7738422690731552, 1.7759910691569014, 1.7762611565550999, 1.7716663251828635, 1.765879818059793, 1.7679025767446914, 1.7699889248722878]\n"
     ]
    }
   ],
   "source": [
    "filepath = \".\"\n",
    "template = \"{}/{}_{}_{}.{}\"\n",
    "\n",
    "model_name = \"nx3_4headed_256T_relu_dropout_attn_decoder\"\n",
    "model_file_template = template.format(filepath, model_name, \"MODEL\", \"{}\", \"pt\")\n",
    "global_train_loss_template = template.format(filepath, model_name, \"TRAIN_LOSS\", \"{}\", \"pkl\")\n",
    "global_val_loss_template = template.format(filepath, model_name, \"VAL_LOSS\", \"{}\", \"pkl\")\n",
    "print(model_file_template)\n",
    "print(global_train_loss_template)\n",
    "print(global_val_loss_template)\n",
    "\n",
    "global_epoch = 61\n",
    "if not global_epoch is None:\n",
    "    model.load_state_dict(torch.load(model_file_template.format(global_epoch)))\n",
    "    \n",
    "    with open(global_train_loss_template.format(global_epoch), 'rb') as f:\n",
    "        global_train_loss = pickle.load(f)\n",
    "    \n",
    "    with open(global_val_loss_template.format(global_epoch), 'rb') as f:\n",
    "        global_val_loss = pickle.load(f)\n",
    "        \n",
    "    print(global_train_loss)\n",
    "    print(global_val_loss)"
   ]
  },
  {
   "cell_type": "code",
   "execution_count": 17,
   "id": "c7cd0af0",
   "metadata": {},
   "outputs": [],
   "source": [
    "batch_size = 1024\n",
    "\n",
    "train_dl = create_data_loader(train_data, batch_size=batch_size, block_size=block_size)\n",
    "val_dl = create_data_loader(val_data, batch_size=batch_size, block_size=block_size)"
   ]
  },
  {
   "cell_type": "code",
   "execution_count": 19,
   "id": "4e4b0b2b",
   "metadata": {},
   "outputs": [
    {
     "name": "stdout",
     "output_type": "stream",
     "text": [
      "Epoch: 1\n",
      "Train time: 407.26376581192017, Val time: 18.91058611869812\n",
      "Train Loss: 2.214039154364143, Val Loss: 2.2258300290461315\n"
     ]
    }
   ],
   "source": [
    "epochs = 1\n",
    "\n",
    "epoch_start = 0 if global_epoch is None else global_epoch + 1\n",
    "for epoch in range(epoch_start, epochs+epoch_start):\n",
    "    print(\"Epoch: {}\".format(epoch))\n",
    "    \n",
    "    start_train = time.time()\n",
    "    total_train_loss = 0.0\n",
    "    for x_batch, y_batch in train_dl:\n",
    "        # Move to gpu.\n",
    "        x_batch, y_batch = x_batch.to(device), y_batch.to(device)\n",
    "        \n",
    "        pred = model(x_batch)\n",
    "        B, T, C = pred.shape\n",
    "        loss = F.cross_entropy(pred.view(B*T, C), y_batch.view(B*T))\n",
    "        \n",
    "        loss.backward()\n",
    "        optimizer.step()\n",
    "        optimizer.zero_grad()\n",
    "        total_train_loss += (loss.item() * B)\n",
    "    end_train = time.time()\n",
    "    \n",
    "    start_val = time.time()\n",
    "    total_val_loss = 0.0\n",
    "    with torch.no_grad():\n",
    "        for x_val, y_val in val_dl:\n",
    "            # move to gpu\n",
    "            x_val, y_val = x_val.to(device), y_val.to(device)\n",
    "            \n",
    "            pred = model(x_val)\n",
    "            B, T, C = pred.shape\n",
    "            loss = F.cross_entropy(pred.view(B*T, C), y_val.view(B*T))\n",
    "            total_val_loss += (loss.item() * B)\n",
    "    end_val = time.time()\n",
    "    \n",
    "    global_train_loss.append(total_train_loss / len(train_dl.dataset))\n",
    "    global_val_loss.append(total_val_loss / len(val_dl.dataset))\n",
    "    print(\"Train time: {}, Val time: {}\".format(end_train - start_train, end_val - start_val))\n",
    "    print(\"Train Loss: {}, Val Loss: {}\".format(global_train_loss[-1], global_val_loss[-1]))\n",
    "    torch.save(model.state_dict(), model_file_template.format(epoch))\n",
    "    with open(global_train_loss_template.format(epoch), \"wb\") as fp:\n",
    "        pickle.dump(global_train_loss, fp)\n",
    "    with open(global_val_loss_template.format(epoch), \"wb\") as fp:\n",
    "        pickle.dump(global_val_loss, fp)\n",
    "    global_epoch = epoch"
   ]
  },
  {
   "cell_type": "code",
   "execution_count": 26,
   "id": "e489bf79",
   "metadata": {},
   "outputs": [],
   "source": []
  },
  {
   "cell_type": "code",
   "execution_count": 18,
   "id": "65d0d8f3",
   "metadata": {},
   "outputs": [
    {
     "data": {
      "image/png": "[encoded data removed]",
      "text/plain": [
       "<Figure size 640x480 with 1 Axes>"
      ]
     },
     "metadata": {},
     "output_type": "display_data"
    }
   ],
   "source": [
    "from matplotlib import pyplot as plt\n",
    "import numpy as np\n",
    "plt.plot(np.arange(len(global_train_loss)), global_train_loss, label=\"Train Loss\")\n",
    "plt.plot(np.arange(len(global_val_loss)), global_val_loss, label=\"Val Loss\")\n",
    "plt.legend()\n",
    "plt.show()"
   ]
  },
  {
   "cell_type": "code",
   "execution_count": null,
   "id": "e0b82893",
   "metadata": {},
   "outputs": [],
   "source": []
  },
  {
   "cell_type": "code",
   "execution_count": null,
   "id": "b19a4a37",
   "metadata": {},
   "outputs": [],
   "source": []
  },
  {
   "cell_type": "code",
   "execution_count": null,
   "id": "cef27383",
   "metadata": {},
   "outputs": [],
   "source": []
  },
  {
   "cell_type": "code",
   "execution_count": 19,
   "id": "5baa2a66",
   "metadata": {},
   "outputs": [],
   "source": [
    "def generate_output(model, x, block_size, num_tokens=100):\n",
    "    result = []\n",
    "    for _ in range(num_tokens):\n",
    "        logits = model(x) # logits is B, T, C\n",
    "        logits_last_time_step = logits[:, -1, :]\n",
    "\n",
    "        batch_probs = F.softmax(logits_last_time_step, dim=1)\n",
    "        batch_next_ch = torch.multinomial(batch_probs, 1)\n",
    "        result.append(batch_next_ch.item())\n",
    "        \n",
    "        x = torch.cat((x, batch_next_ch), dim=1) # B, T+1\n",
    "        if x.shape[1] > block_size:\n",
    "            x = x[:, 1:block_size+1]\n",
    "            \n",
    "    return result"
   ]
  },
  {
   "cell_type": "code",
   "execution_count": 23,
   "id": "04cdefdf",
   "metadata": {},
   "outputs": [
    {
     "name": "stdout",
     "output_type": "stream",
     "text": [
      "On of was of yor stand seped have,\n",
      "There.\n",
      "BISHOOOP OF Y:\n",
      "\n",
      "Seethough-py way!\n",
      "\n",
      "DUE:\n",
      "NCOwFers, if, I say!\n",
      "Namelps take: not so the put compecty\n",
      "Is sten to whetwast ing my sow: that can?\n",
      "Hows I we'll live fors proclame\n",
      "Whose to lew-wover.\n",
      "Hath lowiger cownderen, 'Cot, Plitlos!\n",
      "Welconfe nat, shex, so that vagain,nting have foor\n",
      "\n",
      "JUJULIET:\n",
      "Welcomeas.\n",
      "\n",
      "CLAULET:\n",
      "Hy nay can catusel you a chilu, was mew;\n",
      "Sp\n"
     ]
    }
   ],
   "source": [
    "model.train()\n",
    "empty_token = torch.zeros((1, 1), dtype=torch.long, device=device)\n",
    "out = generate_output(model=model, x=empty_token, block_size=block_size, num_tokens=400)\n",
    "print(\"\".join(decode(out)))"
   ]
  },
  {
   "cell_type": "code",
   "execution_count": null,
   "id": "2c94052c",
   "metadata": {},
   "outputs": [],
   "source": []
  },
  {
   "cell_type": "code",
   "execution_count": null,
   "id": "e40c42e5-cec9-4cfc-994b-9c6fdcf3b8bd",
   "metadata": {},
   "outputs": [],
   "source": []
  }
 ],
 "metadata": {
  "kernelspec": {
   "display_name": "Python 3 (ipykernel)",
   "language": "python",
   "name": "python3"
  },
  "language_info": {
   "codemirror_mode": {
    "name": "ipython",
    "version": 3
   },
   "file_extension": ".py",
   "mimetype": "text/x-python",
   "name": "python",
   "nbconvert_exporter": "python",
   "pygments_lexer": "ipython3",
   "version": "3.9.18"
  }
 },
 "nbformat": 4,
 "nbformat_minor": 5
}
